{
 "cells": [
  {
   "cell_type": "markdown",
   "id": "b45ec863-3f71-472d-8ddd-b8e051ea39d2",
   "metadata": {},
   "source": [
    "<h1>Data Science Tools and Ecosystem<h1>"
   ]
  },
  {
   "cell_type": "markdown",
   "id": "32ae6daa-51cf-4ece-b6cc-f72076aa1f5f",
   "metadata": {},
   "source": [
    "In this notebook, Data Science Tools and Ecosystem are summarized."
   ]
  },
  {
   "cell_type": "markdown",
   "id": "54f44227-61a1-49c8-9e24-68880de6531e",
   "metadata": {},
   "source": [
    "Some of the popular languages that Data Scientists use are:\n",
    "<ol>\n",
    "    <li>Python</li>\n",
    "    <li>SQL</li>\n",
    "    <li>R</li>\n",
    "</ol>"
   ]
  },
  {
   "cell_type": "markdown",
   "id": "9769e36c-da18-4c5d-99ab-54271b8b1fcf",
   "metadata": {},
   "source": [
    "Some of the commonly used libraries used by Data Scientists include:\n",
    "<ol>\n",
    "    <li>Pandas</li>\n",
    "    <li>Numpy</li>\n",
    "    <li>Matplotlib</li>\n",
    "</ol>"
   ]
  },
  {
   "cell_type": "markdown",
   "id": "bf1c17ce-9ccb-40a9-9054-597adabd5290",
   "metadata": {},
   "source": [
    "## Data Science Tools ##\n",
    "\n",
    "| Data Science Tools |\n",
    "|---|\n",
    "| Jupyter Notebook |\n",
    "| RStudio |\n",
    "| Apache Spark |"
   ]
  },
  {
   "cell_type": "markdown",
   "id": "2d443b5d-f019-414f-8da7-a89cf97ce241",
   "metadata": {},
   "source": [
    "<h3>Below are a few examples of evaluating arithmetic expressions in Python</h3>\n",
    "<ol>\n",
    "    <li><p>print(2 + 3)</p></li>\n",
    "    <li><p>print(7 - 2)</p></li>\n",
    "    <li><p>print((2 + 3) * 5)</p></li>\n",
    "</ol>"
   ]
  },
  {
   "cell_type": "code",
   "execution_count": 5,
   "id": "77711f30-a355-4c5f-a0f4-4a51a3816186",
   "metadata": {
    "tags": []
   },
   "outputs": [
    {
     "name": "stdout",
     "output_type": "stream",
     "text": [
      "17\n"
     ]
    }
   ],
   "source": [
    "# This a simple arithmetic expression to mutiply then add integers\n",
    "math = (3 * 4) + 5\n",
    "\n",
    "print(math)"
   ]
  },
  {
   "cell_type": "code",
   "execution_count": 6,
   "id": "48740f91-5035-49ca-80b0-def0f28e8315",
   "metadata": {
    "tags": []
   },
   "outputs": [
    {
     "name": "stdout",
     "output_type": "stream",
     "text": [
      "200 minutes converted to hours: 3.3333333333333335\n"
     ]
    }
   ],
   "source": [
    "# This will convert 200 minutes to hours by dividing by 60.\n",
    "hours = 200 / 60\n",
    "\n",
    "print(f\"200 minutes converted to hours: {hours}\")"
   ]
  },
  {
   "cell_type": "markdown",
   "id": "59d4119f-89aa-4dbe-8855-c8fae273d513",
   "metadata": {},
   "source": [
    "**Objectives:**\n",
    "<ol>\n",
    "    <li>List popular languages for Data Science</li>\n",
    "    <li>List popular commercial and cloud-based data science tools</li>\n",
    "    <li>List popular open-source tools used in data science</li>\n",
    "    <li>How to use GitHub</li>\n",
    "    <li>How to use Jupyter</li>\n",
    "</ol>"
   ]
  },
  {
   "cell_type": "markdown",
   "id": "e8a419aa-8c74-4c72-8358-216b4d4e2fb6",
   "metadata": {},
   "source": [
    "<h2>Author</h2>\n",
    "<p>Chan Tai Teng</p>"
   ]
  },
  {
   "cell_type": "code",
   "execution_count": null,
   "id": "dad83907-cfbc-46a4-87d9-55d205c66c57",
   "metadata": {},
   "outputs": [],
   "source": []
  }
 ],
 "metadata": {
  "kernelspec": {
   "display_name": "Python",
   "language": "python",
   "name": "conda-env-python-py"
  },
  "language_info": {
   "codemirror_mode": {
    "name": "ipython",
    "version": 3
   },
   "file_extension": ".py",
   "mimetype": "text/x-python",
   "name": "python",
   "nbconvert_exporter": "python",
   "pygments_lexer": "ipython3",
   "version": "3.7.12"
  }
 },
 "nbformat": 4,
 "nbformat_minor": 5
}
